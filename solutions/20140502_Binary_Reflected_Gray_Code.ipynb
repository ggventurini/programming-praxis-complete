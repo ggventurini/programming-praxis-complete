{
 "metadata": {
  "name": "",
  "signature": "sha256:b2731befc1ca1912c80daba843576a7be6afa2e349c6a7e521231f5c2a7c31f1"
 },
 "nbformat": 3,
 "nbformat_minor": 0,
 "worksheets": [
  {
   "cells": [
    {
     "cell_type": "markdown",
     "metadata": {},
     "source": [
      "From http://programmingpraxis.com/2014/05/02/binary-reflected-gray-code/"
     ]
    },
    {
     "cell_type": "markdown",
     "metadata": {},
     "source": [
      "#Binary Reflected Gray Code\n",
      "\n",
      "May 2, 2014\n",
      "\n",
      "An n-bit Gray sequence is a sequence of 2n values, starting from 0, in which each differs from its predecessor by a single bit. There are always 2n\u22121 n-bit Gray sequences; for instance, the two 2-bit Gray sequences are 0, 1, 3, 2 and 0, 2, 3, 1. It is easier to see the Gray sequences when they are written in binary; the two 2-bit Gray sequences written in binary are 00, 01, 11, 10 and 0,0 10, 11, 01, where it is clear that each element of the sequence differs from the previous one by only one bit.\n",
      "\n",
      "Although there are many possible Gray sequences for any given number of bits, there is one Gray sequence, known as the binary reflected gray code BRGC, that is almost always the Gray sequence that is being discussed. Such sequences are generated recursively from the next-smaller sequence by reversing the sequence, prefixing the entries of the original sequence with a 0-bit, prefixing the entries of the reversed sequence with a 1-bit, then concatenating the two sequences. For instance, given the 2-bit Gray sequence 00, 01, 11, 10, its reversal is 10, 11, 01, 00, adding a 0-bit to the original gives 000, 001, 011, 010, adding a 1-bit to the reversal gives 110, 111, 101, 100, and concatenating the two gives 000, 001, 011, 010, 110, 111, 101, 100, which is 0, 1, 3, 2, 6, 7, 5, 4.\n",
      "\n",
      "Your task is to write a function that generates an n-bit binary reflected Gray sequence. When you are finished, you are welcome to read or run a suggested solution, or to post your own solution or discuss the exercise in the comments below."
     ]
    },
    {
     "cell_type": "markdown",
     "metadata": {},
     "source": [
      "## My solution"
     ]
    },
    {
     "cell_type": "code",
     "collapsed": false,
     "input": [
      "%pylab inline"
     ],
     "language": "python",
     "metadata": {},
     "outputs": [
      {
       "output_type": "stream",
       "stream": "stdout",
       "text": [
        "Populating the interactive namespace from numpy and matplotlib\n"
       ]
      }
     ],
     "prompt_number": 16
    },
    {
     "cell_type": "code",
     "collapsed": false,
     "input": [
      "def BRGC(n):\n",
      "    # Returns type string\n",
      "    if n == 1:\n",
      "        return ['0', '1']\n",
      "    else:\n",
      "        return map(lambda x: str.__add__('0', x), BRGC(n-1)) + \\\n",
      "               map(lambda x: str.__add__('1', x), BRGC(n-1)[::-1])\n",
      "def BCRG_int(n):\n",
      "    # Returns type int\n",
      "    return map(lambda x: int(x, 2), BRGC(n))"
     ],
     "language": "python",
     "metadata": {},
     "outputs": [],
     "prompt_number": 28
    },
    {
     "cell_type": "code",
     "collapsed": false,
     "input": [
      "BCRG_int(4)"
     ],
     "language": "python",
     "metadata": {},
     "outputs": [
      {
       "metadata": {},
       "output_type": "pyout",
       "prompt_number": 31,
       "text": [
        "[0, 1, 3, 2, 6, 7, 5, 4, 12, 13, 15, 14, 10, 11, 9, 8]"
       ]
      }
     ],
     "prompt_number": 31
    },
    {
     "cell_type": "code",
     "collapsed": false,
     "input": [
      "BRGC(4)"
     ],
     "language": "python",
     "metadata": {},
     "outputs": [
      {
       "metadata": {},
       "output_type": "pyout",
       "prompt_number": 32,
       "text": [
        "['0000',\n",
        " '0001',\n",
        " '0011',\n",
        " '0010',\n",
        " '0110',\n",
        " '0111',\n",
        " '0101',\n",
        " '0100',\n",
        " '1100',\n",
        " '1101',\n",
        " '1111',\n",
        " '1110',\n",
        " '1010',\n",
        " '1011',\n",
        " '1001',\n",
        " '1000']"
       ]
      }
     ],
     "prompt_number": 32
    },
    {
     "cell_type": "code",
     "collapsed": false,
     "input": [
      "# All unique values\n",
      "a = BRGC(10)\n",
      "len(set(a)) == len(a)"
     ],
     "language": "python",
     "metadata": {},
     "outputs": [
      {
       "metadata": {},
       "output_type": "pyout",
       "prompt_number": 33,
       "text": [
        "True"
       ]
      }
     ],
     "prompt_number": 33
    },
    {
     "cell_type": "markdown",
     "metadata": {},
     "source": [
      "Solved on May 2, 2014\n",
      "\n",
      "-- Giuseppe Venturini"
     ]
    }
   ],
   "metadata": {}
  }
 ]
}