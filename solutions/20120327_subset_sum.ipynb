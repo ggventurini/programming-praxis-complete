{
 "metadata": {
  "name": "",
  "signature": "sha256:3184ff8b4348de5a08cd7240ef2f56ec5c59b90c378926da321d5ecf81c47459"
 },
 "nbformat": 3,
 "nbformat_minor": 0,
 "worksheets": [
  {
   "cells": [
    {
     "cell_type": "code",
     "collapsed": false,
     "input": [
      "import numpy as np"
     ],
     "language": "python",
     "metadata": {},
     "outputs": [],
     "prompt_number": 1
    },
    {
     "cell_type": "markdown",
     "metadata": {},
     "source": [
      "#Subset Sum\n",
      "\n",
      "March 27, 2012\n",
      "\n",
      "From: http://programmingpraxis.com/2012/03/27/subset-sum/\n",
      "\n",
      "The subset-sum problem asks you to find the subset of a set of integers that sums to a given target; for instance, given the set $\\{267, 439, 869, 961, 1000, 1153, 1246, 1598, 1766, 1922\\}$ and target $5842$, the subset $\\{869, 961, 1000, 1246, 1766\\}$ sums to $5842$. This is a well-known NP problem, and the standard solution via dynamic programming takes time $O(n\\ 2^n)$. The basic idea is straight forward: generate a list of subsets, compute the sum of each, and return the one that sums to the target.\n",
      "\n",
      "The dynamic programming solution has the same $O(n\\ 2^n)$ time complexity, but builds up the solution in stages. A matrix has $n$ rows and $2n$ columns; the rows are marked with the $n$ input values, the columns are marked with the various subset-sums, and each cell contains a list of items from the n values up to the current row that sums to the column total. \n",
      "\n",
      "We\u2019ll look at an example... \n",
      "\n",
      "[omissis]\n",
      "\n",
      "Your task is to write a function that solves the subset-sum problem. When you are finished, you are welcome to read or run a suggested solution, or to post your own solution or discuss the exercise in the comments below."
     ]
    },
    {
     "cell_type": "markdown",
     "metadata": {},
     "source": [
      "## A possible solution\n",
      "\n",
      "### A Subset Sum Table implementation"
     ]
    },
    {
     "cell_type": "code",
     "collapsed": false,
     "input": [
      "class SSTable(object):\n",
      "    \"\"\"A subset sum table.\"\"\"\n",
      "    def __init__(self):\n",
      "        self.table = None\n",
      "        self.col = {}\n",
      "        self.row = {}\n",
      "    def add(self, i):\n",
      "        \"\"\"Add an integer to the subset sum.\"\"\"\n",
      "        if i in self.row:\n",
      "            return\n",
      "        if self.table is None:\n",
      "            self.table = np.array([[{i}]], dtype=np.object)\n",
      "            #self.table.reshape((1, 1))\n",
      "            self.col.update({i:0})\n",
      "            self.row.update({i:0})\n",
      "        else:\n",
      "            r = self.table[-1, :]\n",
      "            if not i in list(self.col.keys()):\n",
      "                r = np.concatenate((r, np.array([set((i,))])))\n",
      "                self.col.update({i:len(self.col)})\n",
      "            for sj in self.table[-1, :]:\n",
      "                sj1 = sj.union({i})\n",
      "                if not sum(sj1) in list(self.col.keys()):\n",
      "                    r = np.concatenate((r, np.array([sj1])))\n",
      "                    self.col.update({sum(sj1):len(self.col)})\n",
      "            if len(r) - self.table.shape[1] > 0:\n",
      "                nn = np.empty((self.table.shape[0], len(r) - self.table.shape[1]), dtype=np.object)\n",
      "                nn.fill(None)\n",
      "                self.table = np.hstack((self.table, nn))\n",
      "            self.table = np.vstack((self.table, r))\n",
      "            self.row.update({i:len(self.row)})\n",
      "    def get(self, i):\n",
      "        \"\"\"Return the set that sums to i.\n",
      "        \n",
      "        Raises ValueError if no possible set of items added to the table\n",
      "        sums to i.\n",
      "        \"\"\"\n",
      "        if not i in self.col:\n",
      "            raise ValueError(\"No possible solution was found!\")\n",
      "        else:\n",
      "            return [x for x in self.table[:, self.col[i]] if x is not None]\n",
      "    def __str__(self):\n",
      "        return str(self.table)"
     ],
     "language": "python",
     "metadata": {},
     "outputs": [],
     "prompt_number": 2
    },
    {
     "cell_type": "markdown",
     "metadata": {},
     "source": [
      "### Test The example"
     ]
    },
    {
     "cell_type": "code",
     "collapsed": false,
     "input": [
      "t = SSTable()\n",
      "for i in (1, -3, 4, 2):\n",
      "    t.add(i)\n",
      "print t.get(0)"
     ],
     "language": "python",
     "metadata": {},
     "outputs": [
      {
       "output_type": "stream",
       "stream": "stdout",
       "text": [
        "[set([1, 2, -3])]\n"
       ]
      }
     ],
     "prompt_number": 3
    },
    {
     "cell_type": "markdown",
     "metadata": {},
     "source": [
      "### Check its correctness with a random test"
     ]
    },
    {
     "cell_type": "code",
     "collapsed": false,
     "input": [
      "import numpy.random\n",
      "N = 40 # n of elements in the set\n",
      "NMAX = 100 # maximum value of the integers in the set\n",
      "print \"Choosing a set of %d random integers in the [-%d, %d) range... \" % (N, NMAX, NMAX), \n",
      "# No repetitions, we're talking 'sets'\n",
      "d = []\n",
      "while len(d) < N:\n",
      "    j = numpy.random.randint(-NMAX, NMAX)\n",
      "    if not j in d:\n",
      "        d.append(j)\n",
      "d = np.array(d)\n",
      "print \"done.\"\n",
      "n = numpy.random.randint(min(2, N), N+1)\n",
      "print \"Choosing at random among the integers selected above %d integers... \" % n, \n",
      "i = numpy.random.randint(0, N, (n,))\n",
      "print \"done.\"\n",
      "\n",
      "print \"The selected set is:\\n\", str(d[i])\n",
      "s = float(np.sum(d[i]))\n",
      "print \"Which sums to: %d\" % s\n",
      "\n",
      "\n",
      "print \"\\nBuilding the Sub-set Sum Table... \",\n",
      "# Let's solve\n",
      "t = SSTable()\n",
      "for e in d:\n",
      "    t.add(int(e))\n",
      "print \"done.\"\n",
      "res = t.get(s)[0]\n",
      "print \"The algorithm selected the set %s, which sums to %d.\" % (str(list(res)), sum(list(res)))\n",
      "\n",
      "print \"Success: %r\" % (sum(list(res)) == s)\n",
      "\n",
      "if not res == set(d[i].tolist()):\n",
      "    print \"Note: the algorithm can only find one of the possibly multiple solutions to the subset sum problem.\""
     ],
     "language": "python",
     "metadata": {},
     "outputs": [
      {
       "output_type": "stream",
       "stream": "stdout",
       "text": [
        "Choosing a set of 40 random integers in the [-100, 100) range...  done.\n",
        "Choosing at random among the integers selected above 12 integers...  done.\n",
        "The selected set is:\n",
        "[ 43  62  49 -65  32  40  90 -74  80   9  47 -18]\n",
        "Which sums to: 295\n",
        "\n",
        "Building the Sub-set Sum Table...  "
       ]
      },
      {
       "output_type": "stream",
       "stream": "stdout",
       "text": [
        "done.\n",
        "The algorithm selected the set [32, 49, 68, 53, -26, -11, 61, 69], which sums to 295.\n",
        "Success: True\n",
        "Note: the algorithm can only find one of the possibly multiple solutions to the subset sum problem.\n"
       ]
      }
     ],
     "prompt_number": 5
    },
    {
     "cell_type": "code",
     "collapsed": false,
     "input": [],
     "language": "python",
     "metadata": {},
     "outputs": [],
     "prompt_number": 4
    }
   ],
   "metadata": {}
  }
 ]
}