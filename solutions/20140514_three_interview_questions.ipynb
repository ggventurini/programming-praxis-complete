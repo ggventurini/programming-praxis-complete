{
 "metadata": {
  "name": ""
 },
 "nbformat": 3,
 "nbformat_minor": 0,
 "worksheets": [
  {
   "cells": [
    {
     "cell_type": "markdown",
     "metadata": {},
     "source": [
      "#Three Interview Questions\n",
      "\n",
      "Problems from Programming Praxis: INSERT LINK\n",
      "\n",
      "Posted on May 13, 2014\n",
      "\n",
      "Solutions written by ggventurini on May 14 2014"
     ]
    },
    {
     "cell_type": "markdown",
     "metadata": {},
     "source": [
      "> One of the sites that I watch from time to time is Career Cup, which publishes coding questions that have been asked in actual job interviews. These questions came through this morning:"
     ]
    },
    {
     "cell_type": "markdown",
     "metadata": {},
     "source": [
      "> 1) Consider a sorted singly-linked list having the following nodes: 10 -> 30 -> 50 -> 70 -> NULL. You are given a pointer to node 50 and a new node having the value 40. Can you insert node 40 correctly in the list maintaining the ascending order?"
     ]
    },
    {
     "cell_type": "code",
     "collapsed": false,
     "input": [
      "# my linked list class\n",
      "class llist:\n",
      "    def __init__(self, value, next_elem):\n",
      "        self.value = value\n",
      "        self.next_elem = next_elem"
     ],
     "language": "python",
     "metadata": {},
     "outputs": [],
     "prompt_number": 84
    },
    {
     "cell_type": "code",
     "collapsed": false,
     "input": [
      "old = None\n",
      "values = [10, 30, 50, 70, None]\n",
      "values.reverse()\n",
      "for i in values:\n",
      "    old = llist(i, old)\n",
      "    if i == 50:\n",
      "        a = old\n",
      "\n",
      "print \"We start with the element: %s\" % str(a.value)\n",
      "\n",
      "# solution\n",
      "new_elem = llist(50, a.next_elem)\n",
      "a.value = 40\n",
      "a.next_elem = new_elem\n",
      "\n",
      "print \"Solved, list after the insertion:\"\n",
      "\n",
      "while True:\n",
      "    print old.value,\n",
      "    old = old.next_elem\n",
      "    if old == None:\n",
      "        break"
     ],
     "language": "python",
     "metadata": {},
     "outputs": [
      {
       "output_type": "stream",
       "stream": "stdout",
       "text": [
        "We start with the element: 50\n",
        "Solved, list after the insertion:\n",
        "10 30 40 50 70 None\n"
       ]
      }
     ],
     "prompt_number": 87
    },
    {
     "cell_type": "markdown",
     "metadata": {},
     "source": [
      "> 2) Given a linked list 5 -> 4 -> 3 -> 2 -> 1 produce a linked list 4 -> 2 -> 0 -> 2 -> 1 by subtracting the last node of the list from the first, the next-to-last node from the second, and so on, stopping at the midpoint of the list."
     ]
    },
    {
     "cell_type": "code",
     "collapsed": false,
     "input": [
      "old = None\n",
      "values = [5, 4, 3, 2, 1]\n",
      "values.reverse()\n",
      "for i in values:\n",
      "    old = llist(i, old)\n",
      "\n",
      "# this is the head of the list\n",
      "head = old\n",
      "print \"We start from head: %s\" % str(head.value)\n",
      "\n",
      "print \"List before:\", \n",
      "i = head\n",
      "while True:\n",
      "    print i.value,\n",
      "    i = i.next_elem\n",
      "    if i == None:\n",
      "        break\n",
      "print \"\"\n",
      "\n",
      "print \"Solving...\"\n",
      "# Not pretty, but I suppose we know the list length.\n",
      "list_len = 5\n",
      "j = head\n",
      "steps = range(list_len - 1, -1, -2)\n",
      "for _ in range(int(list_len/2 + list_len % 2)):\n",
      "    i = j\n",
      "    for _ in range(steps.pop(0)):\n",
      "        i = i.next_elem\n",
      "    j.value -= i.value\n",
      "    j = j.next_elem\n",
      "\n",
      "print \"List after:\", \n",
      "i = head\n",
      "while True:\n",
      "    print i.value,\n",
      "    i = i.next_elem\n",
      "    if i == None:\n",
      "        break"
     ],
     "language": "python",
     "metadata": {},
     "outputs": [
      {
       "output_type": "stream",
       "stream": "stdout",
       "text": [
        "We start from head: 5\n",
        "List before: 5 4 3 2 1 \n",
        "Solving...\n",
        "List after: 4 2 0 2 1\n"
       ]
      }
     ],
     "prompt_number": 89
    },
    {
     "cell_type": "markdown",
     "metadata": {},
     "source": [
      "> 3) Write a program to output the number of consecutive trailing zeros in the factorial of a number. For example, if the number is 5, then 5! = 120, and there is one trailing zero."
     ]
    },
    {
     "cell_type": "code",
     "collapsed": false,
     "input": [
      "def zeros_in_factorial(i):\n",
      "    \"\"\"Returns the number of trailing zeros in the factorial of an int i\"\"\"\n",
      "    zeros = [0, 0]\n",
      "    ind = {2:0, 5:1}\n",
      "    while i > 1:\n",
      "        div = [0, 0]\n",
      "        for j in ind.keys():\n",
      "            while int(i/(j**div[ind[j]])) % j == 0 and 2*i > j**div[ind[j]]:\n",
      "                    div[ind[j]] += 1\n",
      "        i = i - 1\n",
      "        zeros = [x+y for x, y in zip(div, zeros)]\n",
      "    return min(zeros)"
     ],
     "language": "python",
     "metadata": {},
     "outputs": [],
     "prompt_number": 91
    },
    {
     "cell_type": "code",
     "collapsed": false,
     "input": [
      "for i in range(2, 20):\n",
      "    print math.factorial(i), zeros_in_factorial(i) "
     ],
     "language": "python",
     "metadata": {},
     "outputs": [
      {
       "output_type": "stream",
       "stream": "stdout",
       "text": [
        "2 0\n",
        "6 0\n",
        "24 0\n",
        "120 1\n",
        "720 1\n",
        "5040 1\n",
        "40320 1\n",
        "362880 1\n",
        "3628800 2\n",
        "39916800 2\n",
        "479001600 2\n",
        "6227020800 2\n",
        "87178291200 2\n",
        "1307674368000 3\n",
        "20922789888000 3\n",
        "355687428096000 3\n",
        "6402373705728000 3\n",
        "121645100408832000 3\n"
       ]
      }
     ],
     "prompt_number": 90
    },
    {
     "cell_type": "code",
     "collapsed": false,
     "input": [
      " "
     ],
     "language": "python",
     "metadata": {},
     "outputs": []
    }
   ],
   "metadata": {}
  }
 ]
}